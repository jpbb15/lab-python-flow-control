{
 "cells": [
  {
   "cell_type": "markdown",
   "id": "d3bfc191-8885-42ee-b0a0-bbab867c6f9f",
   "metadata": {
    "tags": []
   },
   "source": [
    "# Lab | Flow Control"
   ]
  },
  {
   "cell_type": "markdown",
   "id": "3851fcd1-cf98-4653-9c89-e003b7ec9400",
   "metadata": {},
   "source": [
    "## Exercise: Managing Customer Orders Optimized\n",
    "\n",
    "In the last lab, you were starting an online store that sells various products. To ensure smooth operations, you developed a program that manages customer orders and inventory.\n",
    "\n",
    "You did so without using flow control. Let's go a step further and improve this code.\n",
    "\n",
    "Follow the steps below to complete the exercise:\n",
    "\n",
    "1. Look at your code from the lab data structures, and improve repeated code with loops.\n",
    "\n",
    "2. Instead of asking the user to input the name of three products that a customer wants to order, do the following:\n",
    "    \n",
    "    a. Prompt the user to enter the name of a product that a customer wants to order.\n",
    "    \n",
    "    b. Add the product name to the \"customer_orders\" set.\n",
    "    \n",
    "    c. Ask the user if they want to add another product (yes/no).\n",
    "    \n",
    "    d. Continue the loop until the user does not want to add another product.\n",
    "\n",
    "3. Instead of updating the inventory by subtracting 1 from the quantity of each product, only do it for  the products that were ordered (those in \"customer_orders\")."
   ]
  },
  {
   "cell_type": "code",
   "execution_count": 2,
   "id": "07831dd7",
   "metadata": {},
   "outputs": [],
   "source": [
    "#1.1\n",
    "products = [\"t-shirt\", \"mug\", \"hat\", \"book\", \"keychain\"]"
   ]
  },
  {
   "cell_type": "code",
   "execution_count": 3,
   "id": "7bc051d3",
   "metadata": {},
   "outputs": [],
   "source": [
    "#1.2\n",
    "\n",
    "inventory = {}"
   ]
  },
  {
   "cell_type": "code",
   "execution_count": 4,
   "id": "0c70c393",
   "metadata": {},
   "outputs": [
    {
     "name": "stdout",
     "output_type": "stream",
     "text": [
      "{'t-shirt': 5, 'mug': 6, 'hat': 7, 'book': 8, 'keychain': 9}\n"
     ]
    }
   ],
   "source": [
    "#1.3\n",
    "\n",
    "for i in range(len(products)):\n",
    "   product = input(\"Enter the product: \")\n",
    "   quantity = int(input(\"Enter the quantity available: \"))\n",
    "   inventory[product] = quantity\n",
    "\n",
    "print(inventory)\n"
   ]
  },
  {
   "cell_type": "code",
   "execution_count": 5,
   "id": "996328c1",
   "metadata": {},
   "outputs": [],
   "source": [
    "#1.4\n",
    "\n",
    "customer_orders = set()"
   ]
  },
  {
   "cell_type": "code",
   "execution_count": 6,
   "id": "d3dd172d",
   "metadata": {},
   "outputs": [],
   "source": [
    "#1.5\n",
    "\n",
    "for i in range(3):\n",
    "   product_choice = input(\"Enter the product that you want to order: \")\n",
    "   customer_orders.add(product_choice)"
   ]
  },
  {
   "cell_type": "code",
   "execution_count": 7,
   "id": "f288d276",
   "metadata": {},
   "outputs": [
    {
     "name": "stdout",
     "output_type": "stream",
     "text": [
      "The products that you ordered are:  {'hat', 'mug', 'book'}\n"
     ]
    }
   ],
   "source": [
    "#1.6\n",
    "\n",
    "print(\"The products that you ordered are: \", customer_orders)"
   ]
  },
  {
   "cell_type": "code",
   "execution_count": 8,
   "id": "d0a1d54f",
   "metadata": {},
   "outputs": [],
   "source": [
    "#1.7\n",
    "\n",
    "total_products_ordered = len(customer_orders)\n",
    "percentage_products_ordered = (len(customer_orders) / sum(inventory.values())) * 100\n",
    "                                \n",
    "order_status = (total_products_ordered, percentage_products_ordered)"
   ]
  },
  {
   "cell_type": "code",
   "execution_count": 9,
   "id": "c64a14ee",
   "metadata": {},
   "outputs": [
    {
     "name": "stdout",
     "output_type": "stream",
     "text": [
      "Order Statistics:\n",
      "Total Products Ordered: 3\n",
      "Percentage of Products Ordered: 8.571428571428571\n"
     ]
    }
   ],
   "source": [
    "#1.8\n",
    "\n",
    "print(\"Order Statistics:\")\n",
    "print(\"Total Products Ordered:\", total_products_ordered)\n",
    "print(\"Percentage of Products Ordered:\", percentage_products_ordered)"
   ]
  },
  {
   "cell_type": "code",
   "execution_count": 10,
   "id": "2f552f69",
   "metadata": {},
   "outputs": [],
   "source": [
    "#1.9\n",
    "\n",
    "for k, v in inventory.items():\n",
    "    inventory[k] -= 1\n",
    "\n"
   ]
  },
  {
   "cell_type": "code",
   "execution_count": 13,
   "id": "488b7fc4",
   "metadata": {},
   "outputs": [
    {
     "name": "stdout",
     "output_type": "stream",
     "text": [
      "t-shirt available: 4\n",
      "mug available: 5\n",
      "hat available: 6\n",
      "book available: 7\n",
      "keychain available: 8\n"
     ]
    }
   ],
   "source": [
    "#1.10\n",
    "\n",
    "for k,v in inventory.items():\n",
    "    print(k, \"available:\", v)\n",
    "\n"
   ]
  },
  {
   "cell_type": "code",
   "execution_count": 15,
   "id": "1df250ec",
   "metadata": {},
   "outputs": [
    {
     "name": "stdout",
     "output_type": "stream",
     "text": [
      "{'mug', 'hat', 'book'}\n"
     ]
    }
   ],
   "source": [
    "#2\n",
    "customer_orders = set()\n",
    "continue_loop = True\n",
    "\n",
    "while continue_loop:\n",
    "    order = input(\"Enter a product that you want to order or type exit to finish\")\n",
    "    if order.lower() == 'exit':\n",
    "        continue_loop = False\n",
    "    else:\n",
    "        customer_orders.add(order)\n",
    "        choice = input(\"Do you want to add another product? (yes/no)\")\n",
    "        if choice.lower() == 'no':\n",
    "            continue_loop = False\n",
    "\n",
    "print(customer_orders)\n",
    "    \n",
    "        "
   ]
  },
  {
   "cell_type": "code",
   "execution_count": 16,
   "id": "cfb06444",
   "metadata": {},
   "outputs": [
    {
     "data": {
      "text/plain": [
       "{'t-shirt': 4, 'mug': 5, 'hat': 6, 'book': 7, 'keychain': 8}"
      ]
     },
     "execution_count": 16,
     "metadata": {},
     "output_type": "execute_result"
    }
   ],
   "source": [
    "inventory"
   ]
  },
  {
   "cell_type": "code",
   "execution_count": 17,
   "id": "dca89b1c",
   "metadata": {},
   "outputs": [
    {
     "data": {
      "text/plain": [
       "{'book', 'hat', 'mug'}"
      ]
     },
     "execution_count": 17,
     "metadata": {},
     "output_type": "execute_result"
    }
   ],
   "source": [
    "customer_orders"
   ]
  },
  {
   "cell_type": "code",
   "execution_count": 18,
   "id": "6e203d9f",
   "metadata": {},
   "outputs": [
    {
     "name": "stdout",
     "output_type": "stream",
     "text": [
      "{'t-shirt': 4, 'mug': 4, 'hat': 5, 'book': 6, 'keychain': 8}\n"
     ]
    }
   ],
   "source": [
    "#3\n",
    "\n",
    "for product in customer_orders:\n",
    "      if product in inventory:\n",
    "          inventory[product] -= 1\n",
    "\n",
    "print(inventory)"
   ]
  }
 ],
 "metadata": {
  "kernelspec": {
   "display_name": "Python 3 (ipykernel)",
   "language": "python",
   "name": "python3"
  },
  "language_info": {
   "codemirror_mode": {
    "name": "ipython",
    "version": 3
   },
   "file_extension": ".py",
   "mimetype": "text/x-python",
   "name": "python",
   "nbconvert_exporter": "python",
   "pygments_lexer": "ipython3",
   "version": "3.11.7"
  }
 },
 "nbformat": 4,
 "nbformat_minor": 5
}
